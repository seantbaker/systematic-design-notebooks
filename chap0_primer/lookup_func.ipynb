{
 "cells": [
  {
   "cell_type": "markdown",
   "metadata": {},
   "source": [
    "# Designing the `lookup` function\n",
    "\n",
    "There are a couple of different ways we could design a function for looking up\n",
    "nmos / pmos device data from our lookup tables. Let's take a tour through the\n",
    "different options, and see what works and what doesn't."
   ]
  },
  {
   "cell_type": "markdown",
   "metadata": {
    "vscode": {
     "languageId": "plaintext"
    }
   },
   "source": [
    "## Understanding the data\n",
    "\n",
    "First, let's take a minute to understand what the device data looks like.\n",
    "\n",
    "We have 4 independent variables:\n",
    "\n",
    "- L\n",
    "- Vgs\n",
    "- Vds\n",
    "- Vsb\n",
    "\n",
    "```note\n",
    "We'd typically think of $ W $ as a variable we'd sweep as well, but when possible,\n",
    "we'll actually just use a representative value for $ W $ and de-normalize the things\n",
    "that scale with $ W $ after sizing the device.\n",
    "```\n",
    "\n",
    "When we sweep those variables, we measure a whole bunch of things, like $I_d$, $g_m$, $g_{ds}$, $C_{gg}$, etc.\n",
    "Each of those measurements is captured by a column in the device's DataFrame.\n",
    "\n",
    "So, we end up with something like this:"
   ]
  },
  {
   "cell_type": "code",
   "execution_count": 3,
   "metadata": {},
   "outputs": [
    {
     "name": "stdout",
     "output_type": "stream",
     "text": [
      "Loading data from ../../Book-on-gm-ID-design-main/starter_kit/180nch.mat\n",
      "Found the following columns: ['ID', 'VT', 'GM', 'GMB', 'GDS', 'CGG', 'CGS', 'CGD', 'CGB', 'CDD', 'CSS', 'STH', 'SFL', 'INFO', 'CORNER', 'TEMP', 'VGS', 'VDS', 'VSB', 'L', 'W', 'NFING']\n"
     ]
    },
    {
     "name": "stderr",
     "output_type": "stream",
     "text": [
      "/Users/sean/.pyenv/versions/3.10.4/lib/python3.10/site-packages/pandas/core/internals/construction.py:576: VisibleDeprecationWarning: Creating an ndarray from ragged nested sequences (which is a list-or-tuple of lists-or-tuples-or ndarrays with different lengths or shapes) is deprecated. If you meant to do this, you must specify 'dtype=object' when creating the ndarray.\n",
      "  values = np.array([convert(v) for v in values])\n"
     ]
    },
    {
     "data": {
      "text/html": [
       "<div>\n",
       "<style scoped>\n",
       "    .dataframe tbody tr th:only-of-type {\n",
       "        vertical-align: middle;\n",
       "    }\n",
       "\n",
       "    .dataframe tbody tr th {\n",
       "        vertical-align: top;\n",
       "    }\n",
       "\n",
       "    .dataframe thead th {\n",
       "        text-align: right;\n",
       "    }\n",
       "</style>\n",
       "<table border=\"1\" class=\"dataframe\">\n",
       "  <thead>\n",
       "    <tr style=\"text-align: right;\">\n",
       "      <th></th>\n",
       "      <th>W</th>\n",
       "      <th>L</th>\n",
       "      <th>VGS</th>\n",
       "      <th>VDS</th>\n",
       "      <th>VSB</th>\n",
       "      <th>ID</th>\n",
       "      <th>GM</th>\n",
       "      <th>GM_ID</th>\n",
       "      <th>GDS</th>\n",
       "      <th>CGG</th>\n",
       "    </tr>\n",
       "  </thead>\n",
       "  <tbody>\n",
       "    <tr>\n",
       "      <th>0</th>\n",
       "      <td>5</td>\n",
       "      <td>0.18</td>\n",
       "      <td>0.0</td>\n",
       "      <td>0.0</td>\n",
       "      <td>0.0</td>\n",
       "      <td>-0.000000e+00</td>\n",
       "      <td>0.0</td>\n",
       "      <td>NaN</td>\n",
       "      <td>5.547950e-10</td>\n",
       "      <td>6.802937e-15</td>\n",
       "    </tr>\n",
       "    <tr>\n",
       "      <th>1</th>\n",
       "      <td>5</td>\n",
       "      <td>0.18</td>\n",
       "      <td>0.0</td>\n",
       "      <td>0.0</td>\n",
       "      <td>0.1</td>\n",
       "      <td>1.000000e-13</td>\n",
       "      <td>0.0</td>\n",
       "      <td>0.0</td>\n",
       "      <td>2.285584e-10</td>\n",
       "      <td>6.707651e-15</td>\n",
       "    </tr>\n",
       "    <tr>\n",
       "      <th>2</th>\n",
       "      <td>5</td>\n",
       "      <td>0.18</td>\n",
       "      <td>0.0</td>\n",
       "      <td>0.0</td>\n",
       "      <td>0.2</td>\n",
       "      <td>2.000000e-13</td>\n",
       "      <td>0.0</td>\n",
       "      <td>0.0</td>\n",
       "      <td>9.710877e-11</td>\n",
       "      <td>6.625270e-15</td>\n",
       "    </tr>\n",
       "    <tr>\n",
       "      <th>3</th>\n",
       "      <td>5</td>\n",
       "      <td>0.18</td>\n",
       "      <td>0.0</td>\n",
       "      <td>0.0</td>\n",
       "      <td>0.3</td>\n",
       "      <td>3.000000e-13</td>\n",
       "      <td>0.0</td>\n",
       "      <td>0.0</td>\n",
       "      <td>4.240448e-11</td>\n",
       "      <td>6.553162e-15</td>\n",
       "    </tr>\n",
       "    <tr>\n",
       "      <th>4</th>\n",
       "      <td>5</td>\n",
       "      <td>0.18</td>\n",
       "      <td>0.0</td>\n",
       "      <td>0.0</td>\n",
       "      <td>0.4</td>\n",
       "      <td>4.000000e-13</td>\n",
       "      <td>0.0</td>\n",
       "      <td>0.0</td>\n",
       "      <td>1.897669e-11</td>\n",
       "      <td>6.489379e-15</td>\n",
       "    </tr>\n",
       "  </tbody>\n",
       "</table>\n",
       "</div>"
      ],
      "text/plain": [
       "   W     L  VGS  VDS  VSB            ID   GM  GM_ID           GDS  \\\n",
       "0  5  0.18  0.0  0.0  0.0 -0.000000e+00  0.0    NaN  5.547950e-10   \n",
       "1  5  0.18  0.0  0.0  0.1  1.000000e-13  0.0    0.0  2.285584e-10   \n",
       "2  5  0.18  0.0  0.0  0.2  2.000000e-13  0.0    0.0  9.710877e-11   \n",
       "3  5  0.18  0.0  0.0  0.3  3.000000e-13  0.0    0.0  4.240448e-11   \n",
       "4  5  0.18  0.0  0.0  0.4  4.000000e-13  0.0    0.0  1.897669e-11   \n",
       "\n",
       "            CGG  \n",
       "0  6.802937e-15  \n",
       "1  6.707651e-15  \n",
       "2  6.625270e-15  \n",
       "3  6.553162e-15  \n",
       "4  6.489379e-15  "
      ]
     },
     "metadata": {},
     "output_type": "display_data"
    }
   ],
   "source": [
    "# import my helper functions\n",
    "import sys\n",
    "sys.path.append('../helpers')\n",
    "from xtor_data_helpers import load_mat_data\n",
    "\n",
    "# load up device data\n",
    "nch_data_df = load_mat_data(\"../../Book-on-gm-ID-design-main/starter_kit/180nch.mat\")\n",
    "\n",
    "# display top 5 rows of data, with a reasonable subset of columns\n",
    "cols = ['W', 'L', 'VGS', 'VDS', 'VSB', 'ID', 'GM', 'GM_ID', 'GDS', 'CGG']\n",
    "display(\n",
    "    nch_data_df[cols].head()\n",
    ")"
   ]
  },
  {
   "cell_type": "markdown",
   "metadata": {},
   "source": [
    "<br>\n",
    "\n",
    "So, now that we know what our data looks like, let's talk about how to access it."
   ]
  },
  {
   "cell_type": "markdown",
   "metadata": {},
   "source": [
    "## Murmann's original Matlab function\n",
    "\n",
    "The `lookup` function is used all over *Systematic Design of Analog CMOS Circuits*. Professor\n",
    "Murmann has helpfully put the Matlab code for it on [Github](https://github.com/bmurmann/Book-on-gm-ID-design/blob/main/starter_kit/look_up.m),\n",
    "and instead of trying to explain it myself, I'll just copy his explanation: \n",
    "\n",
    "``` matlab\n",
    "% The function \"look_up\" extracts a desired subset from the 4-dimensional simulation data\n",
    "% The function interpolates when the requested points lie off the simulation grid\n",
    "%\n",
    "% There are three usage modes:\n",
    "% (1) Simple lookup of parameters at some given (L, VGS, VDS, VSB)\n",
    "% (2) Lookup of arbitrary ratios of parameters, e.g. GM_ID, GM_CGG at given (L, VGS, VDS, VSB)\n",
    "% (3) Cross-lookup of one ratio against another, e.g. GM_CGG for some GM_ID\n",
    "%\n",
    "% In usage modes (1) and (2) the input parameters (L, VGS, VDS, VSB) can be \n",
    "% listed in any order and default to the following values when not specified:\n",
    "%\n",
    "% L = min(data.L); (minimum length used in simulation)\n",
    "% VGS = data.VGS; (VGS vector used during simulation)\n",
    "% VDS = max(data.VDS)/2; (VDD/2)\n",
    "% VSB = 0;\n",
    "%\n",
    "% When more than one parameter is passed to the function as a vector, the output\n",
    "% becomes multidimensional. This behavior is inherited from the Matlab function \n",
    "% “interpn”, which is at the core of the lookup function. The following example\n",
    "% produces an 11x11 matrix as the output:\n",
    "%\n",
    "% look_up(nch,'ID', 'VGS', 0:0.1:1, 'VDS', 0:0.1:1)\n",
    "%\n",
    "% The dimensions of the output array are ordered such that the largest dimension\n",
    "% comes first. For example, one dimensional output data is an (n x 1) column vector.\n",
    "% For two dimensions, the output is (m x n) and m > n.\n",
    "```\n",
    "\n",
    "The first thing we'll change is that we won't return multidimensional arrays, we'll just\n",
    "return plain DataFrames with multiple sweeps of the input variables. I think of this \n",
    "like we're returning the unpivoted version of what Murmann's Matlab would return; \n",
    "hopefully that makes sense.\n",
    "\n",
    "Another change we'll want to make compared to this original Matlab function is that for usage\n",
    "mode (1): I don't want to return just the parameter that the user asks for; it seems\n",
    "reasonable enough to just return the whole row(s) of device data that match the inputs\n",
    "(or are interpolated from the inputs). So in the example above:\n",
    "\n",
    "``` matlab\n",
    "look_up(nch, 'ID', 'VGS', 0:0.1:1, 'VDS', 0:0.1:1)\n",
    "```\n",
    "\n",
    "I wouldn't just return `ID`, I'd return the whole dataset for values of `VGS` of `0:0.1.1`\n",
    "and `VDS` of `0:0.1:1`.\n",
    "\n",
    "The other change we'll make is to combine use cases (1) and (2). We'll do that by pre-computing\n",
    "the ratios, i.e. `GM_ID` or `GM_GDS`, then use case (2) looks exactly like (1) because the ratios\n",
    "are just another parameter in the table.\n",
    "\n",
    "Lastly, if we're going to pre-compute the ratios, it seems like we can treat use case (3)\n",
    "a lot like (1), if we're sort of flexible about the inputs to the function.\n",
    "\n",
    "So our function should take the following inputs:\n",
    "\n",
    "- `df`: A DataFrame with PMOS/NMOS device data\n",
    "- `fixed_vars`: a dictionary of variables and values for them that we want to use in the lookup. This\n",
    "  could be either just independent sweep variables or independent sweep variables plus one dependent\n",
    "  variable.\n",
    "\n",
    "The function should return a DataFrame of device data interpolated at the values of the `fixed_vars`\n",
    "provided."
   ]
  },
  {
   "cell_type": "markdown",
   "metadata": {},
   "source": [
    "## Method one: using `numpy.interp`\n",
    "\n",
    "I think I could use `numpy.interp`, but things get tricky if we have to do multiple interpolations.\n",
    "\n",
    "For example, suppose the user provides vectors for both `VGS` and `VDS` that aren't in the original\n",
    "dataset. I think we'd have to first interpolate for `VGS` using the original dataset, then interpolate\n",
    "for `VDS` on the dataset returned by the first interpolation. Maybe this is less tricky that I'm\n",
    "making it out to be?"
   ]
  },
  {
   "cell_type": "markdown",
   "metadata": {},
   "source": [
    "## Method two: using `scipy.RegularGridInterpolator`\n",
    "\n",
    "This seems like the most elegant solution, and would require the least code, but I'm actually not 100%\n",
    "on how to use it. From the Scipy [docs](https://docs.scipy.org/doc/scipy/tutorial/interpolate/ND_regular_grid.html)\n",
    "I think we could do something like this:\n",
    "\n",
    "<br>"
   ]
  },
  {
   "cell_type": "code",
   "execution_count": 11,
   "metadata": {},
   "outputs": [
    {
     "data": {
      "text/plain": [
       "['ID',\n",
       " 'VT',\n",
       " 'GM',\n",
       " 'GMB',\n",
       " 'GDS',\n",
       " 'CGG',\n",
       " 'CGS',\n",
       " 'CGD',\n",
       " 'CGB',\n",
       " 'CDD',\n",
       " 'CSS',\n",
       " 'STH',\n",
       " 'SFL',\n",
       " 'INFO',\n",
       " 'CORNER',\n",
       " 'TEMP',\n",
       " 'VGS',\n",
       " 'VDS',\n",
       " 'VSB',\n",
       " 'L',\n",
       " 'W',\n",
       " 'NFING',\n",
       " 'GM_ID',\n",
       " 'JD',\n",
       " 'GM_GDS',\n",
       " 'GM_CGG']"
      ]
     },
     "metadata": {},
     "output_type": "display_data"
    },
    {
     "data": {
      "text/plain": [
       "['L', 'VGS', 'VDS', 'VSB']"
      ]
     },
     "metadata": {},
     "output_type": "display_data"
    },
    {
     "data": {
      "text/plain": [
       "['ID',\n",
       " 'VT',\n",
       " 'GM',\n",
       " 'GMB',\n",
       " 'GDS',\n",
       " 'CGG',\n",
       " 'CGS',\n",
       " 'CGD',\n",
       " 'CGB',\n",
       " 'CDD',\n",
       " 'CSS',\n",
       " 'STH',\n",
       " 'SFL',\n",
       " 'INFO',\n",
       " 'CORNER',\n",
       " 'TEMP',\n",
       " 'W',\n",
       " 'NFING',\n",
       " 'GM_ID',\n",
       " 'JD',\n",
       " 'GM_GDS',\n",
       " 'GM_CGG']"
      ]
     },
     "metadata": {},
     "output_type": "display_data"
    }
   ],
   "source": [
    "all_cols = list(nch_data_df.columns)\n",
    "indy_cols = ['L', 'VGS', 'VDS', 'VSB']\n",
    "depy_cols = [col for col in all_cols if col not in indy_cols]\n",
    "display(all_cols)\n",
    "display(indy_cols)\n",
    "display(depy_cols)"
   ]
  },
  {
   "cell_type": "code",
   "execution_count": 23,
   "metadata": {},
   "outputs": [
    {
     "ename": "ValueError",
     "evalue": "There are 4 point arrays, but values has 2 dimensions",
     "output_type": "error",
     "traceback": [
      "\u001b[0;31m---------------------------------------------------------------------------\u001b[0m",
      "\u001b[0;31mValueError\u001b[0m                                Traceback (most recent call last)",
      "Input \u001b[0;32mIn [23]\u001b[0m, in \u001b[0;36m<cell line: 24>\u001b[0;34m()\u001b[0m\n\u001b[1;32m     20\u001b[0m values \u001b[38;5;241m=\u001b[39m nch_data_df[dep_cols]\u001b[38;5;241m.\u001b[39mvalues\n\u001b[1;32m     21\u001b[0m \u001b[38;5;66;03m# display(values)\u001b[39;00m\n\u001b[1;32m     22\u001b[0m \n\u001b[1;32m     23\u001b[0m \u001b[38;5;66;03m# create a RegularGridInterpolator from our NMOS data\u001b[39;00m\n\u001b[0;32m---> 24\u001b[0m interp \u001b[38;5;241m=\u001b[39m \u001b[43mRegularGridInterpolator\u001b[49m\u001b[43m(\u001b[49m\u001b[43mpoints\u001b[49m\u001b[38;5;241;43m=\u001b[39;49m\u001b[43mpoints\u001b[49m\u001b[43m,\u001b[49m\u001b[43m \u001b[49m\u001b[43mvalues\u001b[49m\u001b[38;5;241;43m=\u001b[39;49m\u001b[43mvalues\u001b[49m\u001b[43m,\u001b[49m\u001b[43m \u001b[49m\u001b[43mmethod\u001b[49m\u001b[38;5;241;43m=\u001b[39;49m\u001b[38;5;124;43m'\u001b[39;49m\u001b[38;5;124;43mlinear\u001b[39;49m\u001b[38;5;124;43m'\u001b[39;49m\u001b[43m)\u001b[49m\n",
      "File \u001b[0;32m~/.pyenv/versions/3.10.4/lib/python3.10/site-packages/scipy/interpolate/_rgi.py:242\u001b[0m, in \u001b[0;36mRegularGridInterpolator.__init__\u001b[0;34m(self, points, values, method, bounds_error, fill_value)\u001b[0m\n\u001b[1;32m    240\u001b[0m \u001b[38;5;28mself\u001b[39m\u001b[38;5;241m.\u001b[39mgrid, \u001b[38;5;28mself\u001b[39m\u001b[38;5;241m.\u001b[39m_descending_dimensions \u001b[38;5;241m=\u001b[39m _check_points(points)\n\u001b[1;32m    241\u001b[0m \u001b[38;5;28mself\u001b[39m\u001b[38;5;241m.\u001b[39mvalues \u001b[38;5;241m=\u001b[39m \u001b[38;5;28mself\u001b[39m\u001b[38;5;241m.\u001b[39m_check_values(values)\n\u001b[0;32m--> 242\u001b[0m \u001b[38;5;28;43mself\u001b[39;49m\u001b[38;5;241;43m.\u001b[39;49m\u001b[43m_check_dimensionality\u001b[49m\u001b[43m(\u001b[49m\u001b[38;5;28;43mself\u001b[39;49m\u001b[38;5;241;43m.\u001b[39;49m\u001b[43mgrid\u001b[49m\u001b[43m,\u001b[49m\u001b[43m \u001b[49m\u001b[38;5;28;43mself\u001b[39;49m\u001b[38;5;241;43m.\u001b[39;49m\u001b[43mvalues\u001b[49m\u001b[43m)\u001b[49m\n\u001b[1;32m    243\u001b[0m \u001b[38;5;28mself\u001b[39m\u001b[38;5;241m.\u001b[39mfill_value \u001b[38;5;241m=\u001b[39m \u001b[38;5;28mself\u001b[39m\u001b[38;5;241m.\u001b[39m_check_fill_value(\u001b[38;5;28mself\u001b[39m\u001b[38;5;241m.\u001b[39mvalues, fill_value)\n\u001b[1;32m    244\u001b[0m \u001b[38;5;28;01mif\u001b[39;00m \u001b[38;5;28mself\u001b[39m\u001b[38;5;241m.\u001b[39m_descending_dimensions:\n",
      "File \u001b[0;32m~/.pyenv/versions/3.10.4/lib/python3.10/site-packages/scipy/interpolate/_rgi.py:248\u001b[0m, in \u001b[0;36mRegularGridInterpolator._check_dimensionality\u001b[0;34m(self, grid, values)\u001b[0m\n\u001b[1;32m    247\u001b[0m \u001b[38;5;28;01mdef\u001b[39;00m \u001b[38;5;21m_check_dimensionality\u001b[39m(\u001b[38;5;28mself\u001b[39m, grid, values):\n\u001b[0;32m--> 248\u001b[0m     \u001b[43m_check_dimensionality\u001b[49m\u001b[43m(\u001b[49m\u001b[43mgrid\u001b[49m\u001b[43m,\u001b[49m\u001b[43m \u001b[49m\u001b[43mvalues\u001b[49m\u001b[43m)\u001b[49m\n",
      "File \u001b[0;32m~/.pyenv/versions/3.10.4/lib/python3.10/site-packages/scipy/interpolate/_rgi.py:38\u001b[0m, in \u001b[0;36m_check_dimensionality\u001b[0;34m(points, values)\u001b[0m\n\u001b[1;32m     36\u001b[0m \u001b[38;5;28;01mdef\u001b[39;00m \u001b[38;5;21m_check_dimensionality\u001b[39m(points, values):\n\u001b[1;32m     37\u001b[0m     \u001b[38;5;28;01mif\u001b[39;00m \u001b[38;5;28mlen\u001b[39m(points) \u001b[38;5;241m>\u001b[39m values\u001b[38;5;241m.\u001b[39mndim:\n\u001b[0;32m---> 38\u001b[0m         \u001b[38;5;28;01mraise\u001b[39;00m \u001b[38;5;167;01mValueError\u001b[39;00m(\u001b[38;5;124m\"\u001b[39m\u001b[38;5;124mThere are \u001b[39m\u001b[38;5;132;01m%d\u001b[39;00m\u001b[38;5;124m point arrays, but values has \u001b[39m\u001b[38;5;132;01m%d\u001b[39;00m\u001b[38;5;124m \u001b[39m\u001b[38;5;124m\"\u001b[39m\n\u001b[1;32m     39\u001b[0m                          \u001b[38;5;124m\"\u001b[39m\u001b[38;5;124mdimensions\u001b[39m\u001b[38;5;124m\"\u001b[39m \u001b[38;5;241m%\u001b[39m (\u001b[38;5;28mlen\u001b[39m(points), values\u001b[38;5;241m.\u001b[39mndim))\n\u001b[1;32m     40\u001b[0m     \u001b[38;5;28;01mfor\u001b[39;00m i, p \u001b[38;5;129;01min\u001b[39;00m \u001b[38;5;28menumerate\u001b[39m(points):\n\u001b[1;32m     41\u001b[0m         \u001b[38;5;28;01mif\u001b[39;00m \u001b[38;5;129;01mnot\u001b[39;00m np\u001b[38;5;241m.\u001b[39masarray(p)\u001b[38;5;241m.\u001b[39mndim \u001b[38;5;241m==\u001b[39m \u001b[38;5;241m1\u001b[39m:\n",
      "\u001b[0;31mValueError\u001b[0m: There are 4 point arrays, but values has 2 dimensions"
     ]
    }
   ],
   "source": [
    "from scipy.interpolate import RegularGridInterpolator\n",
    "\n",
    "# first, we need to remove the 'INFO' and 'CORNER' columns,\n",
    "# since they're not numeric and they mess up the interpolator\n",
    "nch_data_df.drop(labels=['INFO', 'CORNER'], axis='columns', inplace=True)\n",
    "\n",
    "# simple example: let's assume user gave us fixed values for all\n",
    "# of the independent swept variables, so we'll create the Interpolator\n",
    "# using them as the 'points'\n",
    "ind_cols = ['L', 'VGS', 'VDS', 'VSB']\n",
    "\n",
    "# we'll use all of the other columns as the 'values' for the Interpolator\n",
    "dep_cols = [col for col in nch_data_df.columns if col not in indy_cols]\n",
    "\n",
    "# create a tuple of the values in each column in ind_cols\n",
    "points = tuple(nch_data_df[col].unique() for col in ind_cols)\n",
    "# display(points)\n",
    "\n",
    "# create the array of values of the dependent variables\n",
    "values = nch_data_df[dep_cols].values\n",
    "# display(values)\n",
    "\n",
    "# create a RegularGridInterpolator from our NMOS data\n",
    "interp = RegularGridInterpolator(points=points, values=values, method='linear')\n",
    "\n",
    "# this fails with an exception about dimensions, which I think means I'm not setting\n",
    "# up points and values correctly\n",
    "\n"
   ]
  }
 ],
 "metadata": {
  "kernelspec": {
   "display_name": "Python 3",
   "language": "python",
   "name": "python3"
  },
  "language_info": {
   "codemirror_mode": {
    "name": "ipython",
    "version": 3
   },
   "file_extension": ".py",
   "mimetype": "text/x-python",
   "name": "python",
   "nbconvert_exporter": "python",
   "pygments_lexer": "ipython3",
   "version": "3.10.4"
  }
 },
 "nbformat": 4,
 "nbformat_minor": 2
}
