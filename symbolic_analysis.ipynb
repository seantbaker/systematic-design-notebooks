{
 "cells": [
  {
   "cell_type": "code",
   "execution_count": 2,
   "metadata": {},
   "outputs": [],
   "source": [
    "import sympy as sym"
   ]
  },
  {
   "cell_type": "code",
   "execution_count": 11,
   "metadata": {},
   "outputs": [],
   "source": [
    "v_in, i_in, v_1, v_2, v_3 = sym.symbols('v_in, i_in, v_1, v_2, v_3')\n",
    "r_1 = sym.Symbol('r_1')\n",
    "r_2 = sym.Symbol('r_2')\n",
    "c_1 = sym.Symbol('c_1')\n",
    "c_2 = sym.Symbol('c_2')\n",
    "jw = sym.symbols('jw')\n",
    "\n",
    "A = sym.Matrix([[r_1, -r_1, 0, 1],[-r_1, r_1+r_2+1/(jw*c_1), -r_2, 0], [0, -r_2, r_2+1/(jw*c_2), 0], [1, 0, 0, 0]])\n",
    "x = sym.Matrix([[v_1], [v_2], [v_3], [i_in]])\n",
    "z = sym.Matrix([[0], [0], [0], [v_in]])"
   ]
  },
  {
   "cell_type": "code",
   "execution_count": 12,
   "metadata": {},
   "outputs": [
    {
     "data": {
      "text/latex": [
       "$\\displaystyle \\left[\\begin{matrix}v_{in}\\\\\\frac{v_{in} \\left(c_{1} c_{2} jw^{2} r_{1} r_{2} + c_{1} jw r_{1}\\right)}{c_{1} c_{2} jw^{2} r_{1} r_{2} + c_{1} jw r_{1} + c_{1} jw r_{2} + c_{2} jw r_{2} + 1}\\\\\\frac{c_{1} c_{2} jw^{2} r_{1} r_{2} v_{in}}{c_{1} c_{2} jw^{2} r_{1} r_{2} + c_{1} jw r_{1} + c_{1} jw r_{2} + c_{2} jw r_{2} + 1}\\\\\\frac{v_{in} \\left(- c_{1} jw r_{1} r_{2} - c_{2} jw r_{1} r_{2} - r_{1}\\right)}{c_{1} c_{2} jw^{2} r_{1} r_{2} + c_{1} jw r_{1} + c_{1} jw r_{2} + c_{2} jw r_{2} + 1}\\end{matrix}\\right]$"
      ],
      "text/plain": [
       "Matrix([\n",
       "[                                                                                                            v_in],\n",
       "[    v_in*(c_1*c_2*jw**2*r_1*r_2 + c_1*jw*r_1)/(c_1*c_2*jw**2*r_1*r_2 + c_1*jw*r_1 + c_1*jw*r_2 + c_2*jw*r_2 + 1)],\n",
       "[                   c_1*c_2*jw**2*r_1*r_2*v_in/(c_1*c_2*jw**2*r_1*r_2 + c_1*jw*r_1 + c_1*jw*r_2 + c_2*jw*r_2 + 1)],\n",
       "[v_in*(-c_1*jw*r_1*r_2 - c_2*jw*r_1*r_2 - r_1)/(c_1*c_2*jw**2*r_1*r_2 + c_1*jw*r_1 + c_1*jw*r_2 + c_2*jw*r_2 + 1)]])"
      ]
     },
     "execution_count": 12,
     "metadata": {},
     "output_type": "execute_result"
    }
   ],
   "source": [
    "A**-1 * z"
   ]
  }
 ],
 "metadata": {
  "kernelspec": {
   "display_name": "Python 3",
   "language": "python",
   "name": "python3"
  },
  "language_info": {
   "codemirror_mode": {
    "name": "ipython",
    "version": 3
   },
   "file_extension": ".py",
   "mimetype": "text/x-python",
   "name": "python",
   "nbconvert_exporter": "python",
   "pygments_lexer": "ipython3",
   "version": "3.10.4"
  }
 },
 "nbformat": 4,
 "nbformat_minor": 2
}
